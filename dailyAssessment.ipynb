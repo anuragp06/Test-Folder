{
 "cells": [
  {
   "cell_type": "code",
   "execution_count": 1,
   "id": "6bc66ff6-6ab4-4fef-b743-3e4b89c4f5fa",
   "metadata": {},
   "outputs": [
    {
     "data": {
      "text/plain": [
       "array([[ 0,  1,  2,  3,  4],\n",
       "       [ 5,  6,  7,  8,  9],\n",
       "       [10, 11, 12, 13, 14],\n",
       "       [15, 16, 17, 18, 19],\n",
       "       [20, 21, 22, 23, 24]])"
      ]
     },
     "execution_count": 1,
     "metadata": {},
     "output_type": "execute_result"
    }
   ],
   "source": [
    "'''Q1. Create a 5x5 NumPy array of integers from 0 to 24. \n",
    "\n",
    "Extract the second row and third column using indexing. \n",
    "\n",
    "Replace all odd numbers with -1 using broadcasting. '''\n",
    "\n",
    "import numpy as np\n",
    "\n",
    "arr = np.arange(0, 25).reshape(5,5)\n",
    "arr\n"
   ]
  },
  {
   "cell_type": "code",
   "execution_count": 2,
   "id": "8c19365f-dc9e-4bde-9720-6f62f06a1e21",
   "metadata": {},
   "outputs": [
    {
     "data": {
      "text/plain": [
       "7"
      ]
     },
     "execution_count": 2,
     "metadata": {},
     "output_type": "execute_result"
    }
   ],
   "source": [
    "a = arr[1,2]\n",
    "a"
   ]
  },
  {
   "cell_type": "code",
   "execution_count": 3,
   "id": "e072af89-895b-4e08-a0a0-57b97e4bc5fd",
   "metadata": {},
   "outputs": [
    {
     "data": {
      "text/plain": [
       "array([[-1, -1,  2,  3,  4],\n",
       "       [ 5,  6,  7,  8,  9],\n",
       "       [10, 11, 12, 13, 14],\n",
       "       [15, 16, 17, 18, 19],\n",
       "       [20, 21, 22, 23, 24]])"
      ]
     },
     "execution_count": 3,
     "metadata": {},
     "output_type": "execute_result"
    }
   ],
   "source": [
    "odd_numbers = arr == (arr % 2 != 0)\n",
    "\n",
    "arr[odd_numbers] = -1\n",
    "arr"
   ]
  },
  {
   "cell_type": "code",
   "execution_count": 4,
   "id": "4c0e2180-68b2-4adc-b164-7f5ef05cfd78",
   "metadata": {},
   "outputs": [
    {
     "data": {
      "text/plain": [
       "'\\nQ2. Generate a 3D NumPy array of shape (2, 3, 4) filled with random integers between 10 and 50. \\n\\nUse slicing to extract the last 2 elements from each inner-most array. \\n\\nBroadcast a scalar value (e.g., subtract 10 from all elements). \\n'"
      ]
     },
     "execution_count": 4,
     "metadata": {},
     "output_type": "execute_result"
    }
   ],
   "source": [
    "'''\n",
    "Q2. Generate a 3D NumPy array of shape (2, 3, 4) filled with random integers between 10 and 50. \n",
    "\n",
    "Use slicing to extract the last 2 elements from each inner-most array. \n",
    "\n",
    "Broadcast a scalar value (e.g., subtract 10 from all elements). \n",
    "'''"
   ]
  },
  {
   "cell_type": "code",
   "execution_count": 6,
   "id": "e49fcc8a-3ad9-4700-b228-663ac83a932d",
   "metadata": {},
   "outputs": [
    {
     "data": {
      "text/plain": [
       "array([[[16, 32, 16, 28],\n",
       "        [47, 22, 48, 11],\n",
       "        [40, 26, 30, 34]],\n",
       "\n",
       "       [[18, 24, 13, 45],\n",
       "        [11, 50, 24, 48],\n",
       "        [49, 38, 46, 34]]])"
      ]
     },
     "execution_count": 6,
     "metadata": {},
     "output_type": "execute_result"
    }
   ],
   "source": [
    "#Generate a 3D NumPy array of shape (2, 3, 4) filled with random integers between 10 and 50.\n",
    "array = np.random.randint(10, 51, size=(2, 3, 4))\n",
    "array\n"
   ]
  },
  {
   "cell_type": "code",
   "execution_count": 8,
   "id": "4e09c7b5-12ea-4f6b-9ac8-d68c2a40d266",
   "metadata": {},
   "outputs": [
    {
     "data": {
      "text/plain": [
       "array([[[16, 28],\n",
       "        [48, 11],\n",
       "        [30, 34]],\n",
       "\n",
       "       [[13, 45],\n",
       "        [24, 48],\n",
       "        [46, 34]]])"
      ]
     },
     "execution_count": 8,
     "metadata": {},
     "output_type": "execute_result"
    }
   ],
   "source": [
    "#Use slicing to extract the last 2 elements from each inner-most array. \n",
    "array[:, :, -2:]"
   ]
  },
  {
   "cell_type": "code",
   "execution_count": 11,
   "id": "ba82600a-5d9f-4d84-9c25-345a34226aee",
   "metadata": {},
   "outputs": [
    {
     "data": {
      "text/plain": [
       "array([[[11, 27, 11, 23],\n",
       "        [42, 17, 43,  6],\n",
       "        [35, 21, 25, 29]],\n",
       "\n",
       "       [[13, 19,  8, 40],\n",
       "        [ 6, 45, 19, 43],\n",
       "        [44, 33, 41, 29]]])"
      ]
     },
     "execution_count": 11,
     "metadata": {},
     "output_type": "execute_result"
    }
   ],
   "source": [
    "#Broadcast a scalar value (e.g., subtract 10 from all elements). \n",
    "arr2 = array-5\n",
    "arr2"
   ]
  },
  {
   "cell_type": "code",
   "execution_count": null,
   "id": "e28a9983-85a1-4cf5-a15c-3297555416f5",
   "metadata": {},
   "outputs": [],
   "source": []
  }
 ],
 "metadata": {
  "kernelspec": {
   "display_name": "Python 3 (ipykernel)",
   "language": "python",
   "name": "python3"
  },
  "language_info": {
   "codemirror_mode": {
    "name": "ipython",
    "version": 3
   },
   "file_extension": ".py",
   "mimetype": "text/x-python",
   "name": "python",
   "nbconvert_exporter": "python",
   "pygments_lexer": "ipython3",
   "version": "3.12.7"
  }
 },
 "nbformat": 4,
 "nbformat_minor": 5
}
